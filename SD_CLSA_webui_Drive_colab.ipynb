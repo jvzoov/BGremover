{
  "cells": [
    {
      "cell_type": "markdown",
      "metadata": {
        "id": "view-in-github",
        "colab_type": "text"
      },
      "source": [
        "<a href=\"https://colab.research.google.com/github/barreler126/BackgroundRemoval/blob/main/SD_CLSA_webui_Drive_colab.ipynb\" target=\"_parent\"><img src=\"https://colab.research.google.com/assets/colab-badge.svg\" alt=\"Open In Colab\"/></a>"
      ]
    },
    {
      "cell_type": "markdown",
      "source": [
        "## 挂载Google云盘部署"
      ],
      "metadata": {
        "id": "Iwv8ruS0B42T"
      }
    },
    {
      "cell_type": "markdown",
      "source": [
        "# 使用说明：\n",
        "\n",
        "\n",
        "*   代码基于https://github.com/camenduru/ 中web UI内容进行了修改调整\n",
        "*   由于官方对免费用户限制，修改代码绕开运行警告\n",
        "*   Pro用户同样可用\n",
        "*   云盘免费空间为15G,因此下方Controlnet模型只下载了部分\n",
        "*   若已扩容或有需要，可以打开下方代码中绿色注释部分\n",
        "*   若一些插件或者模型不需要，可以注释或者删除\n",
        "*   默认下载了v1-5-pruned-emaonly.ckpt，不需要可以删除\n",
        "\n",
        "\n",
        "\n",
        "\n",
        "\n"
      ],
      "metadata": {
        "id": "SwOS9SsyHQmj"
      }
    },
    {
      "cell_type": "markdown",
      "source": [
        "## 使用方法：\n",
        "\n",
        "\n",
        "首次运行步骤：\n",
        "\n",
        "\n",
        "1.   新建网页，登录谷歌云盘(https://drive.google.com/)\n",
        "点击左上角新建—更多-关联更多应用-搜索Colaboratory，点击进入安装\n",
        "2.   在该文档上方点击【复制到云端硬盘】，或者选择上方【文件】-【在云端硬盘中保存一份副本】，页面会自动跳转至副本窗口，重命名为【SD_CLSA_webui_Drive_colab.ipynb】后关闭本页面\n",
        "3.   在副本页面中，选择上方【代码执行程序】-【更改运行时类型】，免费用户GPU选择【T4】，Pro用户可选【A100】或【V100】，点击保存\n",
        "4.   点击右上角【连接】按钮，等待成功连接后会出现绿色对勾\n",
        "5.   点击下方【安装环境并运行】运行按钮，等待10分钟左右，出现网址链接，任意点开一个即可进入\n",
        "6.   之后就和本地部署一样了\n",
        "\n",
        "后续使用只需云盘打开保存的副本colab，执行3、4、5即可\n",
        "\n",
        "若页面连接失败或运行被终端，只需运行2、开始运行即可。\n",
        "\n",
        "\n",
        "\n"
      ],
      "metadata": {
        "id": "MSrZcpsFP9bH"
      }
    },
    {
      "cell_type": "markdown",
      "source": [
        "## 部署涵盖的插件列表：\n",
        "1.   deforum\n",
        "2.   controlnet\n",
        "3.   openpose-editor\n",
        "4.   depth-lib\n",
        "5.   huggingface\n",
        "6.   additional-networks\n",
        "7.   posex\n",
        "8.   3d-open-pose-editor\n",
        "9.   webui-tunnels\n",
        "10.   rembg\n",
        "11.   two-shot\n",
        "12.   aspect-ratio-helpe\n",
        "13.   adetailer\n",
        "14.   dynamic-thresholding\n",
        "15.   dynamic-prompts\n",
        "16.   wildcards\n",
        "17.   segment-anything\n",
        "18.   ch-ZN汉化\n",
        "19.   multidiffusion-upscaler\n",
        "\n"
      ],
      "metadata": {
        "id": "j0uH72WmQIJX"
      }
    },
    {
      "cell_type": "markdown",
      "source": [
        "# 安装与运行"
      ],
      "metadata": {
        "id": "d-js85SteYcF"
      }
    },
    {
      "cell_type": "code",
      "source": [
        "#@title 1、安装环境并运行\n",
        "%cd /content\n",
        "import urllib, requests\n",
        "from notebook import notebookapp\n",
        "name = requests.get(f\"{list(notebookapp.list_running_servers())[0]['url']}api/sessions\").json()[0][\"name\"].replace(\"_run\", \"\")\n",
        "url = urllib.parse.unquote(\"https%3A%2F%2Fraw.githubusercontent.com%2FChunLiangSian%2FSD_Ui%2Fmain%2FUI_15%2FCLSA_UI_Drive_15.ipynb\")\n",
        "!wget {url} -O {name}\n",
        "%run {name}\n"
      ],
      "metadata": {
        "id": "YjhWsI47WReJ"
      },
      "execution_count": null,
      "outputs": []
    },
    {
      "cell_type": "code",
      "source": [],
      "metadata": {
        "id": "7T7TUxnEkQv0"
      },
      "execution_count": null,
      "outputs": []
    },
    {
      "cell_type": "code",
      "source": [
        "#@title 开始运行\n",
        "a=\"stable\"\n",
        "b=\"Stable\"\n",
        "c=\"sd\"\n",
        "\n",
        "%cd /content\n",
        "from google.colab import drive\n",
        "drive.mount('/content/drive')\n",
        "import os\n",
        "\n",
        "%env PYTHONDONTWRITEBYTECODE=1\n",
        "%env TF_CPP_MIN_LOG_LEVEL=1\n",
        "\n",
        "!apt -y update -qq\n",
        "!wget https://github.com/camenduru/gperftools/releases/download/v1.0/libtcmalloc_minimal.so.4 -O /content/libtcmalloc_minimal.so.4\n",
        "%env LD_PRELOAD=/content/libtcmalloc_minimal.so.4\n",
        "\n",
        "!apt -y install -qq aria2 libcairo2-dev pkg-config python3-dev\n",
        "!apt -y install -qq unionfs-fuse\n",
        "!pip install -q torch==2.0.0+cu118 torchvision==0.15.1+cu118 torchaudio==2.0.1+cu118 torchtext==0.15.1 torchdata==0.6.0 --extra-index-url https://download.pytorch.org/whl/cu118 -U\n",
        "!pip install -q xformers==0.0.19 triton==2.0.0 -U\n",
        "\n",
        "!mkdir /content/fused-models\n",
        "!mkdir /content/models\n",
        "!mkdir /content/fused-lora\n",
        "!mkdir /content/lora\n",
        "!unionfs-fuse /content/drive/MyDrive/ui-colab/ui/models/{b}-diffusion=RW:/content/models=RW /content/fused-models\n",
        "!unionfs-fuse /content/drive/MyDrive/ui-colab/ui/extensions/{c}-webui-additional-networks/models/lora=RW:/content/drive/MyDrive/ui-colab/ui/models/Lora=RW:/content/lora=RW /content/fused-lora\n",
        "\n",
        "%cd /content/drive/MyDrive/ui-colab/ui\n",
        "\n",
        "!git reset --hard\n",
        "!git -C /content/drive/MyDrive/ui-colab/ui/repositories/{a}-diffusion-stability-ai reset --hard\n",
        "\n",
        "\n",
        "!git -C /content/drive/MyDrive/ui-colab/ui/extensions/{c}-webui-tunnels reset --hard\n",
        "!git -C /content/drive/MyDrive/ui-colab/ui/extensions/{c}-webui-tunnels pull\n",
        "\n",
        "\n",
        "!sed -i -e '''/    prepare_environment()/a\\    os.system\\(f\\\"\"\"sed -i -e ''\\\"s/dict()))/dict())).cuda()/g\\\"'' /content/drive/MyDrive/ui-colab/ui/repositories/stable-diffusion-stability-ai/ldm/util.py\"\"\")''' /content/drive/MyDrive/ui-colab/ui/launch.py\n",
        "!sed -i -e 's/checkout {commithash}/checkout --force {commithash}/g' /content/drive/MyDrive/ui-colab/ui/launch.py\n",
        "\n",
        "if not os.path.exists(f\"/content/drive/MyDrive/ui-colab/ui/models/CLIP\"):\n",
        "  os.mkdir(f\"/content/drive/MyDrive/ui-colab/ui/models/CLIP\")\n",
        "!aria2c --console-log-level=error -c -x 16 -s 16 -k 1M https://openaipublic.azureedge.net/clip/models/b8cca3fd41ae0c99ba7e8951adf17d267cdb84cd88be6f7c2e0eca1737a03836/ViT-L-14.pt -d /content/drive/MyDrive/ui-colab/ui/models/CLIP -o ViT-L-14.pt\n",
        "\n",
        "!python launch.py --listen --xformers --enable-insecure-extension-access --theme dark --gradio-queue --clip-models-path /content/drive/MyDrive/ui-colab/ui/models/CLIP --ckpt-dir /content/fused-models --lora-dir /content/fused-lora --multiple"
      ],
      "metadata": {
        "id": "uXQ1WgBCkCpw"
      },
      "execution_count": null,
      "outputs": []
    },
    {
      "cell_type": "code",
      "source": [
        "#@title 仅运行\n",
        "\n",
        "\n",
        "%cd /content/drive/MyDrive/ui-colab/ui\n",
        "!python launch.py --listen --xformers --enable-insecure-extension-access --theme dark --gradio-queue --clip-models-path /content/drive/MyDrive/ui-colab/ui/models/CLIP --ckpt-dir /content/fused-models --lora-dir /content/fused-lora --multiple"
      ],
      "metadata": {
        "id": "mYUKB2FIk-Du"
      },
      "execution_count": null,
      "outputs": []
    },
    {
      "cell_type": "code",
      "source": [
        "\n",
        "#@title 查看GPU和VRAM可用信息\n",
        "\n",
        "!nvidia-smi --query-gpu=name,memory.total,memory.free --format=csv,noheader"
      ],
      "metadata": {
        "id": "aO2nVFIsBMn7"
      },
      "execution_count": null,
      "outputs": []
    },
    {
      "cell_type": "markdown",
      "source": [
        "# 模型下载"
      ],
      "metadata": {
        "id": "wjvS2oV3eozH"
      }
    },
    {
      "cell_type": "code",
      "source": [
        "\n",
        "#@title Checkpoints/safetensors等大模型下载\n",
        "url = \"https://civitai.com/api/download/models/128713\" #@param {type:\"string\"}\n",
        "#@ markdown - _Remote source url._\n",
        "destination_folder = urllib.parse.unquote(\"%2Fcontent%2Fdrive%2FMyDrive%2Fui-colab%2Fui%2Fmodels%2FStable-diffusion\") #@ param {type:\"string\"}\n",
        "#@ markdown - _Find folder in gdrive on the left and right-click to copy the path._\n",
        "filename = \"DreamShaper.safetensors\" #@param {type:\"string\"}\n",
        "#@ markdown - _Filename with extension._\n",
        "\n",
        "target = f'{destination_folder}/{filename}'\n",
        "\n",
        "!gdown -O $target \"$url\"\n"
      ],
      "metadata": {
        "id": "kiuK1rJ5aeOl"
      },
      "execution_count": null,
      "outputs": []
    },
    {
      "cell_type": "code",
      "source": [
        "#@title Lora模型下载\n",
        "url = \"https://civitai.com/api/download/models/6433\" #@param {type:\"string\"}\n",
        "#@ markdown - _Remote source url._\n",
        "destination_folder = urllib.parse.unquote(\"%2Fcontent%2Fdrive%2FMyDrive%2Fui-colab%2Fui%2Fmodels%2FLora\") #@ param {type:\"string\"}\n",
        "#@ markdown - _Find folder in gdrive on the left and right-click to copy the path._\n",
        "filename = \"Eye_LoRa.safetensors\" #@param {type:\"string\"}\n",
        "#@ markdown - _Filename with extension._\n",
        "\n",
        "target = f'{destination_folder}/{filename}'\n",
        "\n",
        "!gdown --fuzzy -O $target \"$url\""
      ],
      "metadata": {
        "id": "Jvnx3qoaa9gb"
      },
      "execution_count": null,
      "outputs": []
    },
    {
      "cell_type": "code",
      "source": [
        "#@title embeddings模型下载\n",
        "url = \"https://huggingface.co/datasets/g{c}f/EasyNegative/resolve/main/EasyNegative.safetensors\" #@param {type:\"string\"}\n",
        "#@ markdown - _Remote source url._\n",
        "destination_folder = urllib.parse.unquote(\"%2Fcontent%2Fdrive%2FMyDrive%2Fui-colab%2Fui%2Fembeddings\") #@ param {type:\"string\"}\n",
        "#@ markdown - _Find folder in gdrive on the left and right-click to copy the path._\n",
        "filename = \"EasyNegative.safetensors\" #@param {type:\"string\"}\n",
        "#@ markdown - _Filename with extension._\n",
        "\n",
        "target = f'{destination_folder}/{filename}'\n",
        "\n",
        "!gdown --fuzzy -O $target \"$url\""
      ],
      "metadata": {
        "id": "h_gQJGj8bLAr"
      },
      "execution_count": null,
      "outputs": []
    },
    {
      "cell_type": "code",
      "source": [
        "#@title VAE下载\n",
        "url = \"https://huggingface.co/stabilityai/{c}-vae-ft-mse-original/resolve/main/vae-ft-mse-840000-ema-pruned.safetensors\" #@param {type:\"string\"}\n",
        "#@ markdown - _Remote source url._\n",
        "destination_folder = urllib.parse.unquote(\"%2Fcontent%2Fdrive%2FMyDrive%2Fui-colab%2Fui%2Fmodels%2FVAE\") #@ param {type:\"string\"}\n",
        "#@ markdown - _Find folder in gdrive on the left and right-click to copy the path._\n",
        "filename = \"vae-ft-mse-840000-ema-pruned.safetensors\" #@param {type:\"string\"}\n",
        "#@ markdown - _Filename with extension._\n",
        "\n",
        "target = f'{destination_folder}/{filename}'\n",
        "\n",
        "!gdown --fuzzy -O $target \"$url\""
      ],
      "metadata": {
        "id": "Q9pSXyDYbVMn"
      },
      "execution_count": null,
      "outputs": []
    }
  ],
  "metadata": {
    "accelerator": "GPU",
    "colab": {
      "private_outputs": true,
      "provenance": [],
      "gpuType": "T4",
      "include_colab_link": true
    },
    "kernelspec": {
      "display_name": "Python 3",
      "name": "python3"
    },
    "language_info": {
      "name": "python",
      "version": "3.10.8"
    },
    "vscode": {
      "interpreter": {
        "hash": "e593ac106456af50ce7af38f9671c411b49d6cd90f9b885e167f0f594e09038c"
      }
    }
  },
  "nbformat": 4,
  "nbformat_minor": 0
}