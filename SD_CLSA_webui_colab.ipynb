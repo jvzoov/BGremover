{
  "cells": [
    {
      "cell_type": "markdown",
      "metadata": {
        "id": "view-in-github",
        "colab_type": "text"
      },
      "source": [
        "<a href=\"https://colab.research.google.com/github/barreler126/BackgroundRemoval/blob/main/SD_CLSA_webui_colab.ipynb\" target=\"_parent\"><img src=\"https://colab.research.google.com/assets/colab-badge.svg\" alt=\"Open In Colab\"/></a>"
      ]
    },
    {
      "cell_type": "markdown",
      "source": [
        "# Colab云端部署"
      ],
      "metadata": {
        "id": "Iwv8ruS0B42T"
      }
    },
    {
      "cell_type": "markdown",
      "source": [
        "# 使用说明：\n",
        "\n",
        "*   代码基于https://github.com/camenduru/ 中web UI内容进行了修改调整\n",
        "*   由于官方对免费用户限制，修改代码绕开运行警告\n",
        "*   Pro用户同样可用\n",
        "*   Colab云免费空间为50G,若一些插件或者模型不需要，可以注释或者删除\n",
        "*   Colab云断开后所有内容会清空，所以出图后可先保存到google云盘在下载到个人电脑\n",
        "\n"
      ],
      "metadata": {
        "id": "SwOS9SsyHQmj"
      }
    },
    {
      "cell_type": "markdown",
      "source": [
        "## 使用方法：\n",
        "\n",
        "\n",
        "首次运行步骤：\n",
        "\n",
        "\n",
        "1.   新建网页，登录谷歌云盘(https://drive.google.com/)\n",
        "点击左上角新建—更多-关联更多应用-搜索Colaboratory，点击进入安装\n",
        "2.   在该文档上方点击【复制到云端硬盘】，或者选择上方【文件】-【在云端硬盘中保存一份副本】，页面会自动跳转至副本窗口，重命名为【SD_CLSA_webui_colab.ipynb】后关闭本页面\n",
        "3.   在副本页面中，选择上方【代码执行程序】-【更改运行时类型】，免费用户GPU选择【T4】，Pro用户可选【A100】或【V100】，点击保存\n",
        "4.   点击右上角【连接】按钮，等待成功连接后会出现绿色对勾\n",
        "5.   点击下方【安装环境并运行】运行按钮，等待10分钟左右，出现网址链接，任意点开一个即可进入\n",
        "6.   之后就和本地部署一样了\n",
        "\n",
        "后续使用只需云盘打开保存的副本colab，执行3、4、5即可\n",
        "\n",
        "若页面连接失败或运行被终端，只需运行2、开始运行即可。\n",
        "\n",
        "\n",
        "\n"
      ],
      "metadata": {
        "id": "MSrZcpsFP9bH"
      }
    },
    {
      "cell_type": "markdown",
      "source": [
        "## 部署涵盖的插件列表：\n",
        "1.   deforum\n",
        "2.   controlnet\n",
        "3.   openpose-editor\n",
        "4.   depth-lib\n",
        "5.   huggingface\n",
        "6.   additional-networks\n",
        "7.   posex\n",
        "8.   3d-open-pose-editor\n",
        "9.   webui-tunnels\n",
        "10.   rembg\n",
        "11.   two-shot\n",
        "12.   aspect-ratio-helpe\n",
        "13.   adetailer\n",
        "14.   dynamic-thresholding\n",
        "15.   dynamic-prompts\n",
        "16.   wildcards\n",
        "17.   segment-anything\n",
        "18.   ch-ZN汉化\n",
        "19.   multidiffusion-upscaler\n",
        "\n",
        "\n"
      ],
      "metadata": {
        "id": "j0uH72WmQIJX"
      }
    },
    {
      "cell_type": "markdown",
      "source": [
        "# 环境安装及运行\n"
      ],
      "metadata": {
        "id": "UDSpxrglM4Kd"
      }
    },
    {
      "cell_type": "code",
      "execution_count": null,
      "metadata": {
        "id": "SaAJk33ppFw1"
      },
      "outputs": [],
      "source": [
        "#@title 1、安装环境并运行\n",
        "%cd /content\n",
        "import urllib, requests\n",
        "from notebook import notebookapp\n",
        "name = requests.get(f\"{list(notebookapp.list_running_servers())[0]['url']}api/sessions\").json()[0][\"name\"].replace(\"_run\", \"\")\n",
        "url = urllib.parse.unquote(\"https%3A%2F%2Fraw.githubusercontent.com%2FChunLiangSian%2FSD_Ui%2Fmain%2FUI_15%2FCLSA_UI_15.ipynb\")\n",
        "!wget {url} -O {name}\n",
        "%run {name}"
      ]
    },
    {
      "cell_type": "code",
      "source": [
        "#@title 2、开始运行\n",
        "\n",
        "!python launch.py --listen --xformers --enable-insecure-extension-access --theme dark --gradio-queue --multiple\n"
      ],
      "metadata": {
        "id": "qzuCoKRvhLRj"
      },
      "execution_count": null,
      "outputs": []
    },
    {
      "cell_type": "code",
      "source": [
        "\n",
        "#@title 查看GPU和VRAM可用信息\n",
        "\n",
        "!nvidia-smi --query-gpu=name,memory.total,memory.free --format=csv,noheader"
      ],
      "metadata": {
        "id": "Zc6h5mN_Xdda"
      },
      "execution_count": null,
      "outputs": []
    },
    {
      "cell_type": "code",
      "source": [
        "#@title Checkpoints/safetensors等大模型下载\n",
        "a=\"stable\"\n",
        "b=\"Stable\"\n",
        "url = \"https://civitai.com/api/download/models/128713\" #@param {type:\"string\"}\n",
        "#@ markdown - _Remote source url._\n",
        "destination_folder = urllib.parse.unquote(\"%2Fcontent%2Fstable-diffusion-webui%2Fmodels%2FStable-diffusion\") #@ param {type:\"string\"}\n",
        "#@ markdown - _Find folder in gdrive on the left and right-click to copy the path._\n",
        "filename = \"DreamShaper.safetensors\" #@param {type:\"string\"}\n",
        "#@ markdown - _Filename with extension._\n",
        "\n",
        "target = f'{destination_folder}/{filename}'\n",
        "\n",
        "!gdown -O $target \"$url\""
      ],
      "metadata": {
        "id": "yJl81u-ryrja"
      },
      "execution_count": null,
      "outputs": []
    },
    {
      "cell_type": "code",
      "source": [
        "#@title Lora模型下载\n",
        "a=\"{a}\"\n",
        "url = \"https://civitai.com/api/download/models/6433\" #@param {type:\"string\"}\n",
        "#@ markdown - _Remote source url._\n",
        "destination_folder = urllib.parse.unquote(\"%2Fcontent%2Fstable-diffusion-webui%2Fmodels%2FLora\") #@ param {type:\"string\"}\n",
        "#@ markdown - _Find folder in gdrive on the left and right-click to copy the path._\n",
        "filename = \"Eye_LoRa.safetensors\" #@param {type:\"string\"}\n",
        "#@ markdown - _Filename with extension._\n",
        "\n",
        "target = f'{destination_folder}/{filename}'\n",
        "\n",
        "!gdown --fuzzy -O $target \"$url\""
      ],
      "metadata": {
        "id": "0pTEzb_kyuKG"
      },
      "execution_count": null,
      "outputs": []
    },
    {
      "cell_type": "code",
      "source": [
        "#@title embeddings模型下载\n",
        "a=\"{a}\"\n",
        "url = \"https://huggingface.co/datasets/g{c}f/EasyNegative/resolve/main/EasyNegative.safetensors\" #@param {type:\"string\"}\n",
        "#@ markdown - _Remote source url._\n",
        "destination_folder = urllib.parse.unquote(\"%2Fcontent%2Fstable-diffusion-webui%2Fembeddings\") #@ param {type:\"string\"}\n",
        "#@ markdown - _Find folder in gdrive on the left and right-click to copy the path._\n",
        "filename = \"EasyNegative.safetensors\" #@param {type:\"string\"}\n",
        "#@ markdown - _Filename with extension._\n",
        "\n",
        "target = f'{destination_folder}/{filename}'\n",
        "\n",
        "!gdown --fuzzy -O $target \"$url\""
      ],
      "metadata": {
        "id": "3iHJJKy0yv5b"
      },
      "execution_count": null,
      "outputs": []
    },
    {
      "cell_type": "code",
      "source": [
        "#@title VAE下载\n",
        "a=\"{a}\"\n",
        "url = \"https://huggingface.co/stabilityai/{c}-vae-ft-mse-original/resolve/main/vae-ft-mse-840000-ema-pruned.safetensors\" #@param {type:\"string\"}\n",
        "#@ markdown - _Remote source url._\n",
        "destination_folder = urllib.parse.unquote(\"%2Fcontent%2Fstable-diffusion-webui%2Fmodels%2FVAE\") #@ param {type:\"string\"}\n",
        "#@ markdown - _Find folder in gdrive on the left and right-click to copy the path._\n",
        "filename = \"vae-ft-mse-840000-ema-pruned.safetensors\" #@param {type:\"string\"}\n",
        "#@ markdown - _Filename with extension._\n",
        "\n",
        "target = f'{destination_folder}/{filename}'\n",
        "\n",
        "!gdown --fuzzy -O $target \"$url\""
      ],
      "metadata": {
        "id": "IPjvKnH1yxcZ"
      },
      "execution_count": null,
      "outputs": []
    }
  ],
  "metadata": {
    "accelerator": "GPU",
    "colab": {
      "private_outputs": true,
      "provenance": [],
      "gpuType": "T4",
      "include_colab_link": true
    },
    "kernelspec": {
      "display_name": "Python 3",
      "name": "python3"
    },
    "language_info": {
      "name": "python",
      "version": "3.10.8"
    },
    "vscode": {
      "interpreter": {
        "hash": "e593ac106456af50ce7af38f9671c411b49d6cd90f9b885e167f0f594e09038c"
      }
    }
  },
  "nbformat": 4,
  "nbformat_minor": 0
}